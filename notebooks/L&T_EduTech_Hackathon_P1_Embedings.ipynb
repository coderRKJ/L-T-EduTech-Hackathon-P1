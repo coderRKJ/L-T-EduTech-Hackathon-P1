{
  "cells": [
    {
      "cell_type": "markdown",
      "metadata": {
        "id": "IymAW-UJXrKe"
      },
      "source": [
        "## L&T EduTech Hackathon: Problem Statement 1\n",
        "Deep Learning framework for Crack Detection"
      ]
    },
    {
      "cell_type": "code",
      "execution_count": null,
      "metadata": {
        "id": "mrbbc0GhXeI_"
      },
      "outputs": [],
      "source": [
        "import os\n",
        "import numpy as np\n",
        "\n",
        "import tensorflow as tf\n",
        "from tensorflow.keras import applications\n",
        "from tensorflow.keras.utils import image_dataset_from_directory\n",
        "\n",
        "import matplotlib.pyplot as plt"
      ]
    },
    {
      "cell_type": "code",
      "execution_count": null,
      "metadata": {
        "id": "fx19Ou5aKx7T"
      },
      "outputs": [],
      "source": [
        "# Config Variables\n",
        "DIR = \"./Surface Crack\" # Replace with Path to Data Folder"
      ]
    },
    {
      "cell_type": "markdown",
      "metadata": {
        "id": "ARt50rFmlbnT"
      },
      "source": [
        "## Load Data"
      ]
    },
    {
      "cell_type": "code",
      "execution_count": null,
      "metadata": {
        "colab": {
          "base_uri": "https://localhost:8080/"
        },
        "id": "gF1f8DkklaZd",
        "outputId": "ccf79644-924e-40fc-cc51-97439115faf7"
      },
      "outputs": [
        {
          "name": "stdout",
          "output_type": "stream",
          "text": [
            "Found 600 files belonging to 2 classes.\n",
            "Number of training samples: 19\n",
            "Found 200 files belonging to 2 classes.\n",
            "Number of validation samples: 7\n",
            "Found 200 files belonging to 2 classes.\n",
            "Number of testing samples: 7\n"
          ]
        }
      ],
      "source": [
        "def load_images(directory, subset, batch_size=32, image_size=(224, 224), shuffle=False):\n",
        "    directory = os.path.join(directory, subset)\n",
        "    return image_dataset_from_directory(\n",
        "        directory,\n",
        "        labels=\"inferred\",\n",
        "        label_mode=\"int\",\n",
        "        class_names=['Negative','Positive'],\n",
        "        color_mode=\"rgb\",\n",
        "        batch_size=batch_size,\n",
        "        image_size=image_size,\n",
        "        shuffle=shuffle,\n",
        "    ).cache().prefetch(buffer_size=tf.data.experimental.AUTOTUNE)\n",
        "\n",
        "# No shuffling to preserve order\n",
        "train_ds = load_images(DIR, 'train')\n",
        "print(\"Number of training samples: %d\" % tf.data.experimental.cardinality(train_ds))\n",
        "val_ds = load_images(DIR, 'valid')\n",
        "print(\"Number of validation samples: %d\" % tf.data.experimental.cardinality(val_ds))\n",
        "test_ds = load_images(DIR, 'test')\n",
        "print(\"Number of testing samples: %d\" % tf.data.experimental.cardinality(test_ds))"
      ]
    },
    {
      "cell_type": "markdown",
      "metadata": {
        "id": "nG3SeTZgqF0O"
      },
      "source": [
        "## Deep Learning Model"
      ]
    },
    {
      "cell_type": "code",
      "execution_count": null,
      "metadata": {
        "id": "FoCTVhtSrpNH"
      },
      "outputs": [],
      "source": [
        "class KerasModel():\n",
        "    def __init__(self, name, instance, preprocess_fn, subtype_name=None, subtype_module=None):\n",
        "        self.name = name\n",
        "        self.instance = instance\n",
        "        self.preprocess_fn = preprocess_fn\n",
        "        self.subtype_name = subtype_name\n",
        "        self.subtype_module = subtype_module\n",
        "\n",
        "    def __call__(self, **kwargs):\n",
        "        return instance(**kwargs)"
      ]
    },
    {
      "cell_type": "code",
      "execution_count": null,
      "metadata": {
        "colab": {
          "base_uri": "https://localhost:8080/"
        },
        "id": "-LsM3Ej1iTNx",
        "outputId": "e66614be-b905-4b52-faee-96e217f42373"
      },
      "outputs": [
        {
          "name": "stdout",
          "output_type": "stream",
          "text": [
            "65 models from the 18 model types.\n"
          ]
        }
      ],
      "source": [
        "# Handles all models except MobileNetV3Small & MobileNetV3Large\n",
        "model_subtypes = [model_subtype for model_subtype in dir(applications) if model_subtype[0].islower()]\n",
        "models = []\n",
        "\n",
        "for model_subtype in model_subtypes:\n",
        "    model_subtype_mod = getattr(applications, model_subtype)\n",
        "    model_names = [model_name for model_name in dir(model_subtype_mod) if model_name[0].isupper()]\n",
        "    preprocess_fn = getattr(model_subtype_mod, \"preprocess_input\")\n",
        "    for model_name in model_names:\n",
        "        instance = getattr(model_subtype_mod, model_name)\n",
        "        models.append(KerasModel(model_name, instance, preprocess_fn))\n",
        "\n",
        "print(f\"{len(models)} models from the {len(model_subtypes)} model types.\")"
      ]
    },
    {
      "cell_type": "code",
      "execution_count": null,
      "metadata": {
        "id": "zsJCoA88X12j"
      },
      "outputs": [],
      "source": [
        "!mkdir embeddings"
      ]
    },
    {
      "cell_type": "code",
      "execution_count": null,
      "metadata": {
        "colab": {
          "base_uri": "https://localhost:8080/"
        },
        "id": "3xwS-TrNvq7z",
        "outputId": "3f4e72d2-1fb1-4e64-e3b5-be17f5aec000"
      },
      "outputs": [
        {
          "name": "stdout",
          "output_type": "stream",
          "text": [
            "DenseNet121\n",
            "Downloading data from https://storage.googleapis.com/tensorflow/keras-applications/xception/xception_weights_tf_dim_ordering_tf_kernels_notop.h5\n",
            "83683744/83683744 [==============================] - 0s 0us/step\n",
            "19/19 [==============================] - 12s 156ms/step\n",
            "7/7 [==============================] - 1s 191ms/step\n",
            "7/7 [==============================] - 1s 109ms/step\n",
            "DenseNet169\n",
            "19/19 [==============================] - 3s 114ms/step\n",
            "7/7 [==============================] - 1s 110ms/step\n",
            "7/7 [==============================] - 1s 110ms/step\n",
            "DenseNet201\n",
            "19/19 [==============================] - 3s 115ms/step\n",
            "7/7 [==============================] - 1s 111ms/step\n",
            "7/7 [==============================] - 1s 111ms/step\n",
            "EfficientNetB0\n",
            "19/19 [==============================] - 3s 113ms/step\n",
            "7/7 [==============================] - 1s 109ms/step\n",
            "7/7 [==============================] - 1s 108ms/step\n",
            "EfficientNetB1\n",
            "19/19 [==============================] - 3s 113ms/step\n",
            "7/7 [==============================] - 1s 110ms/step\n",
            "7/7 [==============================] - 1s 108ms/step\n",
            "EfficientNetB2\n",
            "19/19 [==============================] - 3s 113ms/step\n",
            "7/7 [==============================] - 1s 109ms/step\n",
            "7/7 [==============================] - 1s 108ms/step\n",
            "EfficientNetB3\n",
            "19/19 [==============================] - 3s 114ms/step\n",
            "7/7 [==============================] - 1s 109ms/step\n",
            "7/7 [==============================] - 1s 110ms/step\n",
            "EfficientNetB4\n",
            "19/19 [==============================] - 3s 113ms/step\n",
            "7/7 [==============================] - 1s 110ms/step\n",
            "7/7 [==============================] - 1s 111ms/step\n",
            "EfficientNetB5\n",
            "19/19 [==============================] - 3s 115ms/step\n",
            "7/7 [==============================] - 1s 111ms/step\n",
            "7/7 [==============================] - 1s 111ms/step\n",
            "EfficientNetB6\n",
            "19/19 [==============================] - 3s 116ms/step\n",
            "7/7 [==============================] - 1s 111ms/step\n",
            "7/7 [==============================] - 1s 110ms/step\n",
            "EfficientNetB7\n",
            "19/19 [==============================] - 3s 116ms/step\n",
            "7/7 [==============================] - 1s 111ms/step\n",
            "7/7 [==============================] - 1s 111ms/step\n",
            "EfficientNetV2B0\n",
            "19/19 [==============================] - 3s 115ms/step\n",
            "7/7 [==============================] - 1s 112ms/step\n",
            "7/7 [==============================] - 1s 112ms/step\n",
            "EfficientNetV2B1\n",
            "19/19 [==============================] - 3s 117ms/step\n",
            "7/7 [==============================] - 1s 113ms/step\n",
            "7/7 [==============================] - 1s 112ms/step\n",
            "EfficientNetV2B2\n",
            "19/19 [==============================] - 3s 117ms/step\n",
            "7/7 [==============================] - 1s 114ms/step\n",
            "7/7 [==============================] - 1s 114ms/step\n",
            "EfficientNetV2B3\n",
            "19/19 [==============================] - 3s 118ms/step\n",
            "7/7 [==============================] - 1s 114ms/step\n",
            "7/7 [==============================] - 1s 114ms/step\n",
            "EfficientNetV2L\n",
            "19/19 [==============================] - 3s 120ms/step\n",
            "7/7 [==============================] - 1s 113ms/step\n",
            "7/7 [==============================] - 1s 115ms/step\n",
            "EfficientNetV2M\n",
            "19/19 [==============================] - 3s 118ms/step\n",
            "7/7 [==============================] - 1s 114ms/step\n",
            "7/7 [==============================] - 1s 116ms/step\n",
            "EfficientNetV2S\n",
            "19/19 [==============================] - 3s 119ms/step\n",
            "7/7 [==============================] - 1s 115ms/step\n",
            "7/7 [==============================] - 1s 116ms/step\n",
            "InceptionResNetV2\n",
            "19/19 [==============================] - 3s 124ms/step\n",
            "7/7 [==============================] - 1s 120ms/step\n",
            "7/7 [==============================] - 1s 120ms/step\n",
            "InceptionV3\n",
            "19/19 [==============================] - 3s 125ms/step\n",
            "7/7 [==============================] - 1s 119ms/step\n",
            "7/7 [==============================] - 1s 119ms/step\n",
            "MobileNet\n",
            "19/19 [==============================] - 3s 123ms/step\n",
            "7/7 [==============================] - 1s 120ms/step\n",
            "7/7 [==============================] - 1s 121ms/step\n",
            "MobileNetV2\n",
            "19/19 [==============================] - 3s 125ms/step\n",
            "7/7 [==============================] - 1s 121ms/step\n",
            "7/7 [==============================] - 1s 122ms/step\n",
            "NASNetLarge\n",
            "19/19 [==============================] - 3s 125ms/step\n",
            "7/7 [==============================] - 1s 121ms/step\n",
            "7/7 [==============================] - 1s 122ms/step\n",
            "NASNetMobile\n",
            "19/19 [==============================] - 3s 125ms/step\n",
            "7/7 [==============================] - 1s 123ms/step\n",
            "7/7 [==============================] - 1s 121ms/step\n",
            "RegNetX002\n",
            "19/19 [==============================] - 3s 123ms/step\n",
            "7/7 [==============================] - 1s 119ms/step\n",
            "7/7 [==============================] - 1s 121ms/step\n",
            "RegNetX004\n",
            "19/19 [==============================] - 3s 124ms/step\n",
            "7/7 [==============================] - 1s 121ms/step\n",
            "7/7 [==============================] - 1s 120ms/step\n",
            "RegNetX006\n",
            "19/19 [==============================] - 3s 125ms/step\n",
            "7/7 [==============================] - 1s 122ms/step\n",
            "7/7 [==============================] - 1s 121ms/step\n",
            "RegNetX008\n",
            "19/19 [==============================] - 3s 124ms/step\n",
            "7/7 [==============================] - 1s 121ms/step\n",
            "7/7 [==============================] - 1s 121ms/step\n",
            "RegNetX016\n",
            "19/19 [==============================] - 3s 126ms/step\n",
            "7/7 [==============================] - 1s 122ms/step\n",
            "7/7 [==============================] - 1s 121ms/step\n",
            "RegNetX032\n",
            "19/19 [==============================] - 3s 127ms/step\n",
            "7/7 [==============================] - 1s 121ms/step\n",
            "7/7 [==============================] - 1s 121ms/step\n",
            "RegNetX040\n",
            "19/19 [==============================] - 3s 127ms/step\n",
            "7/7 [==============================] - 1s 121ms/step\n",
            "7/7 [==============================] - 1s 123ms/step\n",
            "RegNetX064\n",
            "19/19 [==============================] - 3s 128ms/step\n",
            "7/7 [==============================] - 1s 121ms/step\n",
            "7/7 [==============================] - 1s 121ms/step\n",
            "RegNetX080\n",
            "19/19 [==============================] - 3s 126ms/step\n",
            "7/7 [==============================] - 1s 122ms/step\n",
            "7/7 [==============================] - 1s 121ms/step\n",
            "RegNetX120\n",
            "19/19 [==============================] - 3s 126ms/step\n",
            "7/7 [==============================] - 1s 121ms/step\n",
            "7/7 [==============================] - 1s 120ms/step\n",
            "RegNetX160\n",
            "19/19 [==============================] - 3s 124ms/step\n",
            "7/7 [==============================] - 1s 120ms/step\n",
            "7/7 [==============================] - 1s 120ms/step\n",
            "RegNetX320\n",
            "19/19 [==============================] - 3s 125ms/step\n",
            "7/7 [==============================] - 1s 121ms/step\n",
            "7/7 [==============================] - 1s 120ms/step\n",
            "RegNetY002\n",
            "19/19 [==============================] - 3s 124ms/step\n",
            "7/7 [==============================] - 1s 120ms/step\n",
            "7/7 [==============================] - 1s 119ms/step\n",
            "RegNetY004\n",
            "19/19 [==============================] - 3s 125ms/step\n",
            "7/7 [==============================] - 1s 121ms/step\n",
            "7/7 [==============================] - 1s 121ms/step\n",
            "RegNetY006\n",
            "19/19 [==============================] - 3s 125ms/step\n",
            "7/7 [==============================] - 1s 121ms/step\n",
            "7/7 [==============================] - 1s 120ms/step\n",
            "RegNetY008\n",
            "19/19 [==============================] - 3s 124ms/step\n",
            "7/7 [==============================] - 1s 122ms/step\n",
            "7/7 [==============================] - 1s 121ms/step\n",
            "RegNetY016\n",
            "19/19 [==============================] - 3s 126ms/step\n",
            "7/7 [==============================] - 1s 120ms/step\n",
            "7/7 [==============================] - 1s 121ms/step\n",
            "RegNetY032\n",
            "19/19 [==============================] - 3s 125ms/step\n",
            "7/7 [==============================] - 1s 120ms/step\n",
            "7/7 [==============================] - 1s 121ms/step\n",
            "RegNetY040\n",
            "19/19 [==============================] - 3s 127ms/step\n",
            "7/7 [==============================] - 1s 122ms/step\n",
            "7/7 [==============================] - 1s 121ms/step\n",
            "RegNetY064\n",
            "19/19 [==============================] - 3s 126ms/step\n",
            "7/7 [==============================] - 1s 122ms/step\n",
            "7/7 [==============================] - 1s 122ms/step\n",
            "RegNetY080\n",
            "19/19 [==============================] - 3s 127ms/step\n",
            "7/7 [==============================] - 1s 121ms/step\n",
            "7/7 [==============================] - 1s 121ms/step\n",
            "RegNetY120\n",
            "19/19 [==============================] - 3s 125ms/step\n",
            "7/7 [==============================] - 1s 122ms/step\n",
            "7/7 [==============================] - 1s 121ms/step\n",
            "RegNetY160\n",
            "19/19 [==============================] - 3s 126ms/step\n",
            "7/7 [==============================] - 1s 121ms/step\n",
            "7/7 [==============================] - 1s 122ms/step\n",
            "RegNetY320\n",
            "19/19 [==============================] - 3s 125ms/step\n",
            "7/7 [==============================] - 1s 122ms/step\n",
            "7/7 [==============================] - 1s 120ms/step\n",
            "ResNet101\n",
            "19/19 [==============================] - 3s 126ms/step\n",
            "7/7 [==============================] - 1s 123ms/step\n",
            "7/7 [==============================] - 1s 122ms/step\n",
            "ResNet152\n",
            "19/19 [==============================] - 3s 125ms/step\n",
            "7/7 [==============================] - 1s 122ms/step\n",
            "7/7 [==============================] - 1s 121ms/step\n",
            "ResNet50\n",
            "19/19 [==============================] - 3s 125ms/step\n",
            "7/7 [==============================] - 1s 124ms/step\n",
            "7/7 [==============================] - 1s 122ms/step\n",
            "ResNet50\n",
            "19/19 [==============================] - 3s 126ms/step\n",
            "7/7 [==============================] - 1s 123ms/step\n",
            "7/7 [==============================] - 1s 122ms/step\n",
            "ResNetRS101\n",
            "19/19 [==============================] - 3s 126ms/step\n",
            "7/7 [==============================] - 1s 121ms/step\n",
            "7/7 [==============================] - 1s 121ms/step\n",
            "ResNetRS152\n",
            "19/19 [==============================] - 3s 126ms/step\n",
            "7/7 [==============================] - 1s 121ms/step\n",
            "7/7 [==============================] - 1s 120ms/step\n",
            "ResNetRS200\n",
            "19/19 [==============================] - 3s 126ms/step\n",
            "7/7 [==============================] - 1s 121ms/step\n",
            "7/7 [==============================] - 1s 121ms/step\n",
            "ResNetRS270\n",
            "19/19 [==============================] - 3s 126ms/step\n",
            "7/7 [==============================] - 1s 121ms/step\n",
            "7/7 [==============================] - 1s 121ms/step\n",
            "ResNetRS350\n",
            "19/19 [==============================] - 3s 124ms/step\n",
            "7/7 [==============================] - 1s 121ms/step\n",
            "7/7 [==============================] - 1s 121ms/step\n",
            "ResNetRS420\n",
            "19/19 [==============================] - 3s 125ms/step\n",
            "7/7 [==============================] - 1s 121ms/step\n",
            "7/7 [==============================] - 1s 120ms/step\n",
            "ResNetRS50\n",
            "19/19 [==============================] - 3s 125ms/step\n",
            "7/7 [==============================] - 1s 122ms/step\n",
            "7/7 [==============================] - 1s 121ms/step\n",
            "ResNet101V2\n",
            "19/19 [==============================] - 3s 128ms/step\n",
            "7/7 [==============================] - 1s 124ms/step\n",
            "7/7 [==============================] - 1s 125ms/step\n",
            "ResNet152V2\n",
            "19/19 [==============================] - 3s 127ms/step\n",
            "7/7 [==============================] - 1s 125ms/step\n",
            "7/7 [==============================] - 1s 124ms/step\n",
            "ResNet50V2\n",
            "19/19 [==============================] - 3s 129ms/step\n",
            "7/7 [==============================] - 1s 124ms/step\n",
            "7/7 [==============================] - 1s 126ms/step\n",
            "VGG16\n",
            "19/19 [==============================] - 3s 127ms/step\n",
            "7/7 [==============================] - 1s 123ms/step\n",
            "7/7 [==============================] - 1s 121ms/step\n",
            "VGG19\n",
            "19/19 [==============================] - 3s 126ms/step\n",
            "7/7 [==============================] - 1s 124ms/step\n",
            "7/7 [==============================] - 1s 121ms/step\n",
            "Xception\n",
            "19/19 [==============================] - 3s 129ms/step\n",
            "7/7 [==============================] - 1s 126ms/step\n",
            "7/7 [==============================] - 1s 126ms/step\n"
          ]
        }
      ],
      "source": [
        "INPUT_SHAPE = (224, 224, 3)\n",
        "\n",
        "for model_obj in models:\n",
        "    tf.keras.backend.clear_session()\n",
        "    print(model_obj.name)\n",
        "    base_model = model_obj(\n",
        "        weights=\"imagenet\",\n",
        "        input_shape=INPUT_SHAPE,\n",
        "        include_top=False,\n",
        "        pooling='avg'\n",
        "    )\n",
        "\n",
        "    # Freeze the base_model\n",
        "    base_model.trainable = False\n",
        "\n",
        "    # Create new model on top\n",
        "    inputs = tf.keras.Input(shape=INPUT_SHAPE)\n",
        "\n",
        "    # Pre-trained Xception weights requires that input be preprocessed\n",
        "    x = model_obj.preprocess_fn(inputs)\n",
        "\n",
        "    # The base model contains batchnorm layers. We want to keep them in inference mode\n",
        "    # when we unfreeze the base model for fine-tuning, so we make sure that the\n",
        "    # base_model is running in inference mode here.\n",
        "    embeddings = base_model(x, training=False)\n",
        "    model = tf.keras.Model(inputs, embeddings)\n",
        "\n",
        "    train_pred = model.predict(train_ds, verbose=1)\n",
        "    val_pred = model.predict(val_ds, verbose=1)\n",
        "    test_pred = model.predict(test_ds, verbose=1)\n",
        "    np.savez_compressed(f\"embeddings/{model_obj.name}.npz\",train=train_pred,val=val_pred,test=test_pred)"
      ]
    },
    {
      "cell_type": "code",
      "execution_count": null,
      "metadata": {
        "id": "ObGI7It6UTVf"
      },
      "outputs": [],
      "source": [
        "# Copy to Drive\n",
        "!cp -r \"/content/embeddings\" \"/content/drive/MyDrive/Kaggle Dataset/Surface Crack\""
      ]
    }
  ],
  "metadata": {
    "colab": {
      "provenance": []
    },
    "gpuClass": "standard",
    "kernelspec": {
      "display_name": "Python 3",
      "language": "python",
      "name": "python3"
    },
    "language_info": {
      "name": "python",
      "version": "3.11.1 (main, Dec  7 2022, 01:11:44) [GCC 9.4.0]"
    },
    "vscode": {
      "interpreter": {
        "hash": "ead1b95f633dc9c51826328e1846203f51a198c6fb5f2884a80417ba131d4e82"
      }
    }
  },
  "nbformat": 4,
  "nbformat_minor": 0
}
